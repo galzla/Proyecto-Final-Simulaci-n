{
 "cells": [
  {
   "cell_type": "markdown",
   "id": "76736f2f",
   "metadata": {},
   "source": [
    "# Simulated annealing para sudoku"
   ]
  },
  {
   "cell_type": "markdown",
   "id": "6a2ee28f",
   "metadata": {},
   "source": [
    "Trabajo basado en el paper \"Metaheuristics can solve sudoku puzzles\" de Lewis, Rhyd.  \n",
    "Link al paper: https://link.springer.com/article/10.1007/s10732-007-9012-8."
   ]
  },
  {
   "cell_type": "markdown",
   "id": "b3ab4966",
   "metadata": {},
   "source": [
    " #### Integrantes:  \n",
    " -Santiago Rebolledo  \n",
    " -Domingo ruiz  \n",
    " "
   ]
  },
  {
   "cell_type": "code",
   "execution_count": 99,
   "id": "0e7570a3",
   "metadata": {},
   "outputs": [],
   "source": [
    "import pandas as pd\n",
    "import numpy as np\n",
    "import random\n",
    "import matplotlib.pyplot as plt"
   ]
  },
  {
   "cell_type": "markdown",
   "id": "cbad5d80",
   "metadata": {},
   "source": [
    "Importamos un dataset de 1 millon de sudokus junto a sus soluciones. Estos fueron generados algorítmicamente y obtenidos\n",
    "de kaggle: https://www.kaggle.com/datasets/bryanpark/sudoku."
   ]
  },
  {
   "cell_type": "code",
   "execution_count": 80,
   "id": "25cb4c70",
   "metadata": {},
   "outputs": [],
   "source": [
    "sudokus = pd.read_csv(r\"C:\\Users\\acer\\Desktop\\sudoku.csv\")"
   ]
  },
  {
   "cell_type": "code",
   "execution_count": 4,
   "id": "3843dbe8",
   "metadata": {},
   "outputs": [
    {
     "data": {
      "text/html": [
       "<div>\n",
       "<style scoped>\n",
       "    .dataframe tbody tr th:only-of-type {\n",
       "        vertical-align: middle;\n",
       "    }\n",
       "\n",
       "    .dataframe tbody tr th {\n",
       "        vertical-align: top;\n",
       "    }\n",
       "\n",
       "    .dataframe thead th {\n",
       "        text-align: right;\n",
       "    }\n",
       "</style>\n",
       "<table border=\"1\" class=\"dataframe\">\n",
       "  <thead>\n",
       "    <tr style=\"text-align: right;\">\n",
       "      <th></th>\n",
       "      <th>quizzes</th>\n",
       "      <th>solutions</th>\n",
       "    </tr>\n",
       "  </thead>\n",
       "  <tbody>\n",
       "    <tr>\n",
       "      <th>0</th>\n",
       "      <td>0043002090050090010700600430060020871900074000...</td>\n",
       "      <td>8643712593258497619712658434361925871986574322...</td>\n",
       "    </tr>\n",
       "    <tr>\n",
       "      <th>1</th>\n",
       "      <td>0401000501070039605200080000000000170009068008...</td>\n",
       "      <td>3461792581875239645296483719658324174729168358...</td>\n",
       "    </tr>\n",
       "    <tr>\n",
       "      <th>2</th>\n",
       "      <td>6001203840084590720000060050002640300700800069...</td>\n",
       "      <td>6951273841384596727248369158512647392739815469...</td>\n",
       "    </tr>\n",
       "    <tr>\n",
       "      <th>3</th>\n",
       "      <td>4972000001004000050000160986203000403009000000...</td>\n",
       "      <td>4972583161864397252537164986293815473759641828...</td>\n",
       "    </tr>\n",
       "    <tr>\n",
       "      <th>4</th>\n",
       "      <td>0059103080094030600275001000300002010008200070...</td>\n",
       "      <td>4659123781894735623275681497386452919548216372...</td>\n",
       "    </tr>\n",
       "  </tbody>\n",
       "</table>\n",
       "</div>"
      ],
      "text/plain": [
       "                                             quizzes  \\\n",
       "0  0043002090050090010700600430060020871900074000...   \n",
       "1  0401000501070039605200080000000000170009068008...   \n",
       "2  6001203840084590720000060050002640300700800069...   \n",
       "3  4972000001004000050000160986203000403009000000...   \n",
       "4  0059103080094030600275001000300002010008200070...   \n",
       "\n",
       "                                           solutions  \n",
       "0  8643712593258497619712658434361925871986574322...  \n",
       "1  3461792581875239645296483719658324174729168358...  \n",
       "2  6951273841384596727248369158512647392739815469...  \n",
       "3  4972583161864397252537164986293815473759641828...  \n",
       "4  4659123781894735623275681497386452919548216372...  "
      ]
     },
     "execution_count": 4,
     "metadata": {},
     "output_type": "execute_result"
    }
   ],
   "source": [
    "sudokus.head()"
   ]
  },
  {
   "cell_type": "code",
   "execution_count": 5,
   "id": "6428b20d",
   "metadata": {},
   "outputs": [
    {
     "data": {
      "text/plain": [
       "81"
      ]
     },
     "execution_count": 5,
     "metadata": {},
     "output_type": "execute_result"
    }
   ],
   "source": [
    "#Comprobamos que el largo de nuestros datos sea 81\n",
    "len(sudokus.loc[4][1])"
   ]
  },
  {
   "cell_type": "code",
   "execution_count": 6,
   "id": "52d6bf92",
   "metadata": {},
   "outputs": [
    {
     "data": {
      "text/plain": [
       "1000000"
      ]
     },
     "execution_count": 6,
     "metadata": {},
     "output_type": "execute_result"
    }
   ],
   "source": [
    "#tamaño del dataset\n",
    "len(sudokus)"
   ]
  },
  {
   "cell_type": "markdown",
   "id": "2849bd9c",
   "metadata": {},
   "source": [
    "### Cambio de formato"
   ]
  },
  {
   "cell_type": "markdown",
   "id": "6b07ad55",
   "metadata": {},
   "source": [
    "Buscamos cambiar el formato de nuestros datos de string a un arreglo de $9x9$."
   ]
  },
  {
   "cell_type": "code",
   "execution_count": 7,
   "id": "ba29b638",
   "metadata": {},
   "outputs": [],
   "source": [
    "#Recibe un sudoku en forma de sting y debe convertirlo a forma de matriz de 9x9. Se espera que str tenga 81 caracteres.\n",
    "def strToArr(str): \n",
    "    arr = np.zeros((9,9))\n",
    "    for i in range(9):\n",
    "        for j in range(9):\n",
    "            arr[i][j]=str[9*i+j]\n",
    "    return arr\n",
    "        "
   ]
  },
  {
   "cell_type": "code",
   "execution_count": 8,
   "id": "cdd5ec19",
   "metadata": {},
   "outputs": [
    {
     "name": "stdout",
     "output_type": "stream",
     "text": [
      "[[4. 6. 5. 9. 1. 2. 3. 7. 8.]\n",
      " [1. 8. 9. 4. 7. 3. 5. 6. 2.]\n",
      " [3. 2. 7. 5. 6. 8. 1. 4. 9.]\n",
      " [7. 3. 8. 6. 4. 5. 2. 9. 1.]\n",
      " [9. 5. 4. 8. 2. 1. 6. 3. 7.]\n",
      " [2. 1. 6. 3. 9. 7. 8. 5. 4.]\n",
      " [5. 7. 3. 2. 8. 4. 9. 1. 6.]\n",
      " [6. 4. 2. 1. 5. 9. 7. 8. 3.]\n",
      " [8. 9. 1. 7. 3. 6. 4. 2. 5.]]\n",
      "465912378189473562327568149738645291954821637216397854573284916642159783891736425\n"
     ]
    }
   ],
   "source": [
    "sud1=sudokus.loc[4][1]\n",
    "arr = strToArr(sud1)\n",
    "print(arr)\n",
    "print(sud1)"
   ]
  },
  {
   "cell_type": "markdown",
   "id": "89467ed9",
   "metadata": {},
   "source": [
    "### Función de costo"
   ]
  },
  {
   "cell_type": "markdown",
   "id": "773d8248",
   "metadata": {},
   "source": [
    "Para utilizar Simulated Annealing, necesitamos una función de costo. \n",
    "Dado un sudoku su costo corresponderá a la cantidad de repeticiones de números que \n",
    "se encuentren en filas y columnas (Nos aseguramos de que no hayan repeticiones en los cuadrados de $3x3$).  \n",
    "Primero definimos una función auxiliar para alivianar el código que viene en las siguientes 2 secciones."
   ]
  },
  {
   "cell_type": "code",
   "execution_count": 9,
   "id": "0f8c090c",
   "metadata": {},
   "outputs": [],
   "source": [
    "#Recibe arreglo arr de largo 9 y devuelve arreglo con los numeros en [9] que NO estan en arr.\n",
    "def missingNums(arr): \n",
    "    nums = [1, 2, 3, 4, 5, 6, 7, 8, 9]\n",
    "    a=0\n",
    "    for i in range(9):\n",
    "        if i+1 in arr:\n",
    "            nums.pop(i-a)\n",
    "            a+=1\n",
    "    return nums"
   ]
  },
  {
   "cell_type": "code",
   "execution_count": 10,
   "id": "d1f7606d",
   "metadata": {},
   "outputs": [],
   "source": [
    "#Recibe un sudoku en formato de arreglo 9x9 y devuelve el numero de repeticiones \n",
    "#que se encuentran entre lineas y columnas. Esto equivale a entregar la cantidad de numeros que no aparecen \n",
    "#en dicha fila o columna.\n",
    "def costo(arr):\n",
    "    costo = 0\n",
    "    for i in range(9):\n",
    "        costo+=len(missingNums(arr[i]))+len(missingNums(arr[:,i])) #sumamos cada numero que falta en la columna i y fila i\n",
    "    return costo"
   ]
  },
  {
   "cell_type": "code",
   "execution_count": 11,
   "id": "a4ed59be",
   "metadata": {},
   "outputs": [
    {
     "name": "stdout",
     "output_type": "stream",
     "text": [
      "[[4. 6. 5. 9. 1. 2. 3. 7. 8.]\n",
      " [1. 8. 9. 4. 7. 3. 5. 6. 2.]\n",
      " [3. 2. 7. 5. 6. 8. 1. 4. 9.]\n",
      " [7. 3. 8. 6. 4. 5. 2. 9. 1.]\n",
      " [9. 5. 4. 8. 2. 1. 6. 3. 7.]\n",
      " [2. 1. 6. 3. 9. 7. 8. 5. 4.]\n",
      " [5. 7. 3. 2. 8. 4. 9. 1. 6.]\n",
      " [6. 4. 2. 1. 5. 9. 7. 8. 3.]\n",
      " [8. 9. 1. 7. 3. 6. 4. 2. 5.]]\n",
      "0\n"
     ]
    }
   ],
   "source": [
    "#testeamos función de costo en un sudoku completo\n",
    "sud1=sudokus.loc[4][1]\n",
    "arr1 = strToArr(sud1)\n",
    "print(arr1)\n",
    "print(costo(arr1))"
   ]
  },
  {
   "cell_type": "code",
   "execution_count": 12,
   "id": "47bb025d",
   "metadata": {},
   "outputs": [
    {
     "name": "stdout",
     "output_type": "stream",
     "text": [
      "[[0. 0. 5. 9. 1. 0. 3. 0. 8.]\n",
      " [0. 0. 9. 4. 0. 3. 0. 6. 0.]\n",
      " [0. 2. 7. 5. 0. 0. 1. 0. 0.]\n",
      " [0. 3. 0. 0. 0. 0. 2. 0. 1.]\n",
      " [0. 0. 0. 8. 2. 0. 0. 0. 7.]\n",
      " [0. 0. 6. 0. 0. 7. 0. 0. 4.]\n",
      " [0. 0. 0. 0. 8. 0. 0. 0. 0.]\n",
      " [6. 4. 0. 1. 5. 0. 7. 0. 0.]\n",
      " [8. 9. 0. 0. 0. 0. 4. 2. 0.]]\n",
      "98\n"
     ]
    }
   ],
   "source": [
    "#testeamos función de costo en un sudoku aun sin completar\n",
    "sud2 = sudokus.loc[4][0]\n",
    "arr2 = strToArr(sud2)\n",
    "print(arr2)\n",
    "print(costo(arr2))"
   ]
  },
  {
   "cell_type": "markdown",
   "id": "6999390b",
   "metadata": {},
   "source": [
    "El costo $98$ tiene sentido pues en el sudoku aún sin completar hay $49$ ceros."
   ]
  },
  {
   "cell_type": "markdown",
   "id": "25d44903",
   "metadata": {},
   "source": [
    "### Función para rellenar sudoku"
   ]
  },
  {
   "cell_type": "code",
   "execution_count": 13,
   "id": "b10d4ef5",
   "metadata": {},
   "outputs": [],
   "source": [
    "#Debe rellenar el sudoku de manera aleatoria pero respetando la condicion de que los 9 numeros esten presentes en cada cuadrado\n",
    "\n",
    "def rellenar(sudoku): \n",
    "    #No queremos modificar nuestro arreglo original con la funcion rellenar. Para ello creamos una copia:\n",
    "    a = np.zeros((9,9))\n",
    "    for i in range(9):\n",
    "        for j in range(9):\n",
    "            a[i][j]=sudoku[i][j]\n",
    "            \n",
    "    cuadrado = np.zeros(9)        \n",
    "    for i in range(3): #debemos visitar cada cuadrado (i, j) y modificar los valores 0 de sus entradas\n",
    "        for j in range(3):\n",
    "            s=0\n",
    "            #recuperamos cuadrado(i,j)\n",
    "            for k in range(3):\n",
    "                for l in range(3):\n",
    "                    cuadrado[3*k+l]=a[3*i+l][3*j+k]\n",
    "                    \n",
    "            #lo rellenamos al azar\n",
    "            arr = missingNums(cuadrado)\n",
    "            random.shuffle(arr)\n",
    "            for k in range(3):\n",
    "                for l in range(3):\n",
    "                    if a[3*i+l][3*j+k]==0:\n",
    "                        a[3*i+l][3*j+k]=arr[s]\n",
    "                        s+=1\n",
    "    return a"
   ]
  },
  {
   "cell_type": "code",
   "execution_count": 14,
   "id": "0fd2b64c",
   "metadata": {
    "scrolled": true
   },
   "outputs": [
    {
     "name": "stdout",
     "output_type": "stream",
     "text": [
      "[[0. 0. 5. 9. 1. 0. 3. 0. 8.]\n",
      " [0. 0. 9. 4. 0. 3. 0. 6. 0.]\n",
      " [0. 2. 7. 5. 0. 0. 1. 0. 0.]\n",
      " [0. 3. 0. 0. 0. 0. 2. 0. 1.]\n",
      " [0. 0. 0. 8. 2. 0. 0. 0. 7.]\n",
      " [0. 0. 6. 0. 0. 7. 0. 0. 4.]\n",
      " [0. 0. 0. 0. 8. 0. 0. 0. 0.]\n",
      " [6. 4. 0. 1. 5. 0. 7. 0. 0.]\n",
      " [8. 9. 0. 0. 0. 0. 4. 2. 0.]]\n"
     ]
    }
   ],
   "source": [
    "print(arr2)"
   ]
  },
  {
   "cell_type": "code",
   "execution_count": 40,
   "id": "2d95a04b",
   "metadata": {},
   "outputs": [
    {
     "name": "stdout",
     "output_type": "stream",
     "text": [
      "[[4. 1. 5. 9. 1. 8. 3. 9. 8.]\n",
      " [3. 8. 9. 4. 6. 3. 7. 6. 4.]\n",
      " [6. 2. 7. 5. 2. 7. 1. 5. 2.]\n",
      " [4. 3. 8. 3. 5. 6. 2. 5. 1.]\n",
      " [2. 1. 9. 8. 2. 4. 8. 6. 7.]\n",
      " [7. 5. 6. 1. 9. 7. 9. 3. 4.]\n",
      " [1. 3. 2. 9. 8. 2. 5. 9. 1.]\n",
      " [6. 4. 7. 1. 5. 6. 7. 6. 3.]\n",
      " [8. 9. 5. 7. 3. 4. 4. 2. 8.]]\n"
     ]
    }
   ],
   "source": [
    "a = rellenar(arr2)\n",
    "print(a)"
   ]
  },
  {
   "cell_type": "markdown",
   "id": "04aa2814",
   "metadata": {},
   "source": [
    "### Función para permutar dos coordenadas del sudoku"
   ]
  },
  {
   "cell_type": "code",
   "execution_count": 16,
   "id": "5b772019",
   "metadata": {},
   "outputs": [],
   "source": [
    "def gen_random_numbers_in_range(low, high, n): #Código obtenido de internet. Genera n numeros \n",
    "                                               #aleatorios distintos en el intervalo [low,high)\n",
    "    return random.sample(range(low, high), n)"
   ]
  },
  {
   "cell_type": "code",
   "execution_count": 55,
   "id": "d34a9689",
   "metadata": {},
   "outputs": [],
   "source": [
    "#La función necesita del sudoku original más el rellenado. \n",
    "#Con el sudoku original sabrá que coordenadas está permitido permutar.\n",
    "def permutarCoords(rell, orig):\n",
    "    k, l = np.random.randint(3, size=2) #seleccionamos cuadrado donde realizar permutacion\n",
    "    coord = []\n",
    "    copia = np.copy(rell) \n",
    "    for i in range(3):\n",
    "        for j in range(3):\n",
    "            if orig[3*k+i][3*l+j]==0:\n",
    "                coord.append(3*i+j)\n",
    "    r, s = gen_random_numbers_in_range(0, len(coord), 2)\n",
    "    \n",
    "    #intercambiamos coordenadas\n",
    "    a = copia[3*k+coord[r]//3][3*l+coord[r]%3]\n",
    "    copia[3*k+coord[r]//3][3*l+coord[r]%3]=copia[3*k+coord[s]//3][3*l+coord[s]%3]\n",
    "    copia[3*k+coord[s]//3][3*l+coord[s]%3]=a\n",
    "    \n",
    "    return copia"
   ]
  },
  {
   "cell_type": "code",
   "execution_count": 56,
   "id": "ce0560bf",
   "metadata": {},
   "outputs": [
    {
     "name": "stdout",
     "output_type": "stream",
     "text": [
      "[[0. 0. 5. 9. 1. 0. 3. 0. 8.]\n",
      " [0. 0. 9. 4. 0. 3. 0. 6. 0.]\n",
      " [0. 2. 7. 5. 0. 0. 1. 0. 0.]\n",
      " [0. 3. 0. 0. 0. 0. 2. 0. 1.]\n",
      " [0. 0. 0. 8. 2. 0. 0. 0. 7.]\n",
      " [0. 0. 6. 0. 0. 7. 0. 0. 4.]\n",
      " [0. 0. 0. 0. 8. 0. 0. 0. 0.]\n",
      " [6. 4. 0. 1. 5. 0. 7. 0. 0.]\n",
      " [8. 9. 0. 0. 0. 0. 4. 2. 0.]]\n"
     ]
    }
   ],
   "source": [
    "print(arr2)"
   ]
  },
  {
   "cell_type": "code",
   "execution_count": 57,
   "id": "9bccdb99",
   "metadata": {},
   "outputs": [
    {
     "name": "stdout",
     "output_type": "stream",
     "text": [
      "[[4. 1. 5. 9. 1. 8. 3. 9. 8.]\n",
      " [3. 8. 9. 4. 6. 3. 7. 6. 4.]\n",
      " [6. 2. 7. 5. 2. 7. 1. 5. 2.]\n",
      " [4. 3. 8. 3. 5. 6. 2. 5. 1.]\n",
      " [2. 1. 9. 8. 2. 4. 8. 6. 7.]\n",
      " [7. 5. 6. 1. 9. 7. 9. 3. 4.]\n",
      " [1. 3. 2. 9. 8. 2. 5. 9. 1.]\n",
      " [6. 4. 7. 1. 5. 6. 7. 6. 3.]\n",
      " [8. 9. 5. 7. 3. 4. 4. 2. 8.]]\n"
     ]
    }
   ],
   "source": [
    "print(a)"
   ]
  },
  {
   "cell_type": "code",
   "execution_count": 58,
   "id": "89bb20c0",
   "metadata": {},
   "outputs": [
    {
     "name": "stdout",
     "output_type": "stream",
     "text": [
      "[[4. 1. 5. 9. 1. 8. 3. 4. 8.]\n",
      " [3. 8. 9. 4. 6. 3. 7. 6. 9.]\n",
      " [6. 2. 7. 5. 2. 7. 1. 5. 2.]\n",
      " [4. 3. 8. 3. 5. 6. 2. 5. 1.]\n",
      " [2. 1. 9. 8. 2. 4. 8. 6. 7.]\n",
      " [7. 5. 6. 1. 9. 7. 9. 3. 4.]\n",
      " [1. 3. 2. 9. 8. 2. 5. 9. 1.]\n",
      " [6. 4. 7. 1. 5. 6. 7. 6. 3.]\n",
      " [8. 9. 5. 7. 3. 4. 4. 2. 8.]]\n"
     ]
    }
   ],
   "source": [
    "print(permutarCoords(a, arr2))"
   ]
  },
  {
   "cell_type": "markdown",
   "id": "f2476f5f",
   "metadata": {},
   "source": [
    "### Simulated annealing"
   ]
  },
  {
   "cell_type": "markdown",
   "id": "2be391e8",
   "metadata": {},
   "source": [
    "Ya tenemos todas las herramientas para utilizar simulated annealing en el problema.  \n",
    "Cómo función de temperatura usaremos una secuencia geométrica $t_{i+1}=\\alpha t_i$ con $0<\\alpha<1$. Para definir la temperatura inicial simulamos 200 estados iniciales en el sudoku y tomamos $t_0$ como la desviación estandar de la función de costo en esos 200 estados.  \n",
    "Nuestra probabilidad de aceptación para pasar de un estado $s$ a un estado adyacente $r$, tomando $\\Delta = costo(r)-costo(s)$, será:\n",
    "$$ \n",
    "P(\\text{r es aceptado})= \\begin{cases}\n",
    "      1 & \\text{si} \\quad \\Delta \\leq 0\\\\\n",
    "      exp(-\\frac{\\Delta}{T}) & \\text{si} \\quad \\Delta > 0\\\\\n",
    "      \\end{cases}  \n",
    "      $$\n"
   ]
  },
  {
   "cell_type": "code",
   "execution_count": 34,
   "id": "409b04d6",
   "metadata": {},
   "outputs": [],
   "source": [
    "#Función que dado un sudoku me entregue la temperatura inicial\n",
    "def tempInicial(sudoku):\n",
    "    std = np.zeros(200)\n",
    "    for i in range(200):\n",
    "        a = rellenar(sudoku)\n",
    "        std[i] = costo(a)\n",
    "    return np.std(std)\n",
    "\n",
    "#Cada reducción de temperatura se realizará tras hacer n intercambios, con n la cantidad de casillas vacías\n",
    "#que tiene nuestro sudoku en su estado inicial.\n",
    "def casillasVacias(sudoku):\n",
    "    n=0\n",
    "    for i in range(9):\n",
    "        for j in range(9):\n",
    "            if sudoku[i][j]==0:\n",
    "                n+=1\n",
    "    return n"
   ]
  },
  {
   "cell_type": "code",
   "execution_count": 115,
   "id": "f071e1a2",
   "metadata": {},
   "outputs": [],
   "source": [
    "\n",
    "#Recibe un sudoku con ciertas casillas fijas e intenta completarlo.\n",
    "#alpha es la tasa de enfriamiento. N el numero máximo de etapas que se realizarán antes de detener el algoritmo.\n",
    "def simAnnealing(sudoku, alpha, N): \n",
    "    n = casillasVacias(sudoku)\n",
    "    T = tempInicial(sudoku)\n",
    "    a = rellenar(sudoku)\n",
    "    \n",
    "    for i in range(N):\n",
    "        if costo(a)==0:\n",
    "            return a, costo(a), i*j\n",
    "        for j in range(n):\n",
    "            b = permutarCoords(a, sudoku)\n",
    "            delta = costo(b)-costo(a)\n",
    "            if delta<=0:\n",
    "                a = np.copy(b)\n",
    "            else: \n",
    "                if np.exp(-delta/T)>np.random.uniform():\n",
    "                    a = np.copy(b)\n",
    "        T=alpha*T\n",
    "        \n",
    "    return a, costo(a), i*j"
   ]
  },
  {
   "cell_type": "code",
   "execution_count": 90,
   "id": "73aee7d8",
   "metadata": {},
   "outputs": [
    {
     "name": "stdout",
     "output_type": "stream",
     "text": [
      "El algoritmo terminó en 11520 iteraciones\n",
      "Solución:\n",
      "[[4. 6. 5. 9. 1. 2. 3. 7. 8.]\n",
      " [1. 8. 9. 4. 7. 3. 5. 6. 2.]\n",
      " [3. 2. 7. 5. 6. 8. 1. 4. 9.]\n",
      " [7. 3. 8. 6. 4. 5. 2. 9. 1.]\n",
      " [9. 5. 4. 8. 2. 1. 6. 3. 7.]\n",
      " [2. 1. 6. 3. 9. 7. 8. 5. 4.]\n",
      " [5. 7. 3. 2. 8. 4. 9. 1. 6.]\n",
      " [6. 4. 2. 1. 5. 9. 7. 8. 3.]\n",
      " [8. 9. 1. 7. 3. 6. 4. 2. 5.]]\n"
     ]
    }
   ],
   "source": [
    "A = simAnnealing(arr2, 0.99, 10000)\n",
    "print(\"El algoritmo terminó en \"+str(A[2])+\" iteraciones\")\n",
    "print(\"Solución:\")\n",
    "print(A[0])"
   ]
  },
  {
   "cell_type": "code",
   "execution_count": 78,
   "id": "61dbe124",
   "metadata": {},
   "outputs": [
    {
     "name": "stdout",
     "output_type": "stream",
     "text": [
      "[[4. 6. 5. 9. 1. 2. 3. 7. 8.]\n",
      " [1. 8. 9. 4. 7. 3. 5. 6. 2.]\n",
      " [3. 2. 7. 5. 6. 8. 1. 4. 9.]\n",
      " [7. 3. 8. 6. 4. 5. 2. 9. 1.]\n",
      " [9. 5. 4. 8. 2. 1. 6. 3. 7.]\n",
      " [2. 1. 6. 3. 9. 7. 8. 5. 4.]\n",
      " [5. 7. 3. 2. 8. 4. 9. 1. 6.]\n",
      " [6. 4. 2. 1. 5. 9. 7. 8. 3.]\n",
      " [8. 9. 1. 7. 3. 6. 4. 2. 5.]]\n"
     ]
    }
   ],
   "source": [
    "#Comparamos con la solución del dataset\n",
    "sol2 = sudokus.loc[4][1]\n",
    "sol22= strToArr(sol2)\n",
    "print(sol22)"
   ]
  },
  {
   "cell_type": "code",
   "execution_count": 76,
   "id": "94b431a2",
   "metadata": {},
   "outputs": [],
   "source": [
    "sud3 = sudokus.loc[130][0]\n",
    "arr3 = strToArr(sud3)\n",
    "sol3 = sudokus.loc[130][1]\n",
    "sol33 = strToArr(sol3)"
   ]
  },
  {
   "cell_type": "code",
   "execution_count": 104,
   "id": "e44a6435",
   "metadata": {},
   "outputs": [
    {
     "name": "stdout",
     "output_type": "stream",
     "text": [
      "El algoritmo terminó en 736 iteraciones\n",
      "Solución:\n",
      "[[3. 8. 5. 9. 6. 2. 4. 7. 1.]\n",
      " [4. 7. 9. 8. 3. 1. 5. 2. 6.]\n",
      " [1. 2. 6. 7. 4. 5. 9. 3. 8.]\n",
      " [9. 3. 1. 4. 5. 8. 7. 6. 2.]\n",
      " [7. 4. 2. 6. 1. 3. 8. 5. 9.]\n",
      " [6. 5. 8. 2. 7. 9. 1. 4. 3.]\n",
      " [2. 1. 4. 5. 9. 6. 3. 8. 7.]\n",
      " [8. 9. 7. 3. 2. 4. 6. 1. 5.]\n",
      " [5. 6. 3. 1. 8. 7. 2. 9. 4.]]\n"
     ]
    }
   ],
   "source": [
    "A1 = simAnnealing(arr3, 0.5, 10000)\n",
    "print(\"El algoritmo terminó en \"+str(A1[2])+\" iteraciones\")\n",
    "print(\"Solución:\")\n",
    "print(A1[0])"
   ]
  },
  {
   "cell_type": "code",
   "execution_count": 77,
   "id": "2bb8af1f",
   "metadata": {},
   "outputs": [
    {
     "name": "stdout",
     "output_type": "stream",
     "text": [
      "[[3. 8. 5. 9. 6. 2. 4. 7. 1.]\n",
      " [4. 7. 9. 8. 3. 1. 5. 2. 6.]\n",
      " [1. 2. 6. 7. 4. 5. 9. 3. 8.]\n",
      " [9. 3. 1. 4. 5. 8. 7. 6. 2.]\n",
      " [7. 4. 2. 6. 1. 3. 8. 5. 9.]\n",
      " [6. 5. 8. 2. 7. 9. 1. 4. 3.]\n",
      " [2. 1. 4. 5. 9. 6. 3. 8. 7.]\n",
      " [8. 9. 7. 3. 2. 4. 6. 1. 5.]\n",
      " [5. 6. 3. 1. 8. 7. 2. 9. 4.]]\n"
     ]
    }
   ],
   "source": [
    "#Comparamos con la solución del dataset\n",
    "print(sol33)"
   ]
  },
  {
   "cell_type": "markdown",
   "id": "a61669ee",
   "metadata": {},
   "source": [
    "Observamos que nuestro algoritmo consigue resolver los sudokus, para estas 2 instancias particulares. En el caso en que $\\alpha=0.99$ se necesitaron considerablemente más iteraciones para encontrar la solución que cuando $\\alpha=0.5$. Esto apunta hacia que el algoritmo no tiene tanto riesgo de quedarse atrapado en mínimos locales. Anlizamos esto en más detalle en la sección siguiente."
   ]
  },
  {
   "cell_type": "markdown",
   "id": "f33ef72b",
   "metadata": {},
   "source": [
    "Por último testeamos nuestro algoritmo en el sudoku en dificultad difícil del newyork times."
   ]
  },
  {
   "attachments": {
    "imagen.png": {
     "image/png": "[encoded data removed]"
    }
   },
   "cell_type": "markdown",
   "id": "39387904",
   "metadata": {},
   "source": [
    "![imagen.png](attachment:imagen.png)"
   ]
  },
  {
   "cell_type": "code",
   "execution_count": 122,
   "id": "e9089b49",
   "metadata": {
    "scrolled": false
   },
   "outputs": [
    {
     "name": "stdout",
     "output_type": "stream",
     "text": [
      "2\n",
      "[[8. 9. 6. 4. 1. 7. 1. 2. 3.]\n",
      " [5. 4. 1. 2. 3. 6. 8. 9. 7.]\n",
      " [2. 7. 3. 8. 9. 5. 5. 6. 4.]\n",
      " [1. 3. 2. 6. 7. 4. 9. 5. 8.]\n",
      " [4. 5. 9. 1. 2. 8. 7. 3. 6.]\n",
      " [7. 6. 8. 3. 5. 9. 2. 4. 1.]\n",
      " [3. 2. 7. 5. 6. 1. 4. 8. 9.]\n",
      " [9. 8. 5. 7. 4. 3. 6. 1. 2.]\n",
      " [6. 1. 4. 9. 8. 2. 3. 7. 5.]]\n"
     ]
    }
   ],
   "source": [
    "NYT=[[0,0,0,0,1,7,0,0,3], \n",
    "     [0,0,1,2,0,0,0,0,7], \n",
    "     [2,0,0,0,0,0,5,6,0], \n",
    "     [1,3,0,0,7,0,9,0,8], \n",
    "     [0,0,0,0,0,8,0,0,0],\n",
    "     [7,0,0,0,0,0,0,4,0],\n",
    "     [0,0,0,0,0,0,0,0,0],\n",
    "     [0,8,0,0,4,3,6,0,0],\n",
    "     [0,0,4,9,0,2,0,0,0]]\n",
    "solNYT=simAnnealing(NYT, 0.9, 1000)\n",
    "print(solNYT[1])\n",
    "print(solNYT[0])"
   ]
  },
  {
   "cell_type": "markdown",
   "id": "bc376e26",
   "metadata": {},
   "source": [
    "Observamos que nuestro algoritmo no es capaz de resolver este puzle y se queda estancado en un mínimo local. Una posible solución a ello sería reiniciar el algoritmo si no se observan cambios en el valor del costo en cierta cantidad de iteraciones."
   ]
  },
  {
   "cell_type": "markdown",
   "id": "fdaf0024",
   "metadata": {},
   "source": [
    "### Análisis de resultados"
   ]
  },
  {
   "cell_type": "markdown",
   "id": "615decbd",
   "metadata": {},
   "source": [
    "Analizamos para distintos valores de $\\alpha$ cuantas iteraciones promedio le toma al algoritmo resolver cada sudoku para los primeros $5$ sudokus del dataset."
   ]
  },
  {
   "cell_type": "code",
   "execution_count": 126,
   "id": "9a527d32",
   "metadata": {},
   "outputs": [
    {
     "ename": "KeyboardInterrupt",
     "evalue": "",
     "output_type": "error",
     "traceback": [
      "\u001b[1;31m---------------------------------------------------------------------------\u001b[0m",
      "\u001b[1;31mKeyboardInterrupt\u001b[0m                         Traceback (most recent call last)",
      "Input \u001b[1;32mIn [126]\u001b[0m, in \u001b[0;36m<cell line: 4>\u001b[1;34m()\u001b[0m\n\u001b[0;32m      6\u001b[0m     sud\u001b[38;5;241m=\u001b[39msudokus\u001b[38;5;241m.\u001b[39mloc[j][\u001b[38;5;241m0\u001b[39m]\n\u001b[0;32m      7\u001b[0m     arr\u001b[38;5;241m=\u001b[39mstrToArr(sud)\n\u001b[1;32m----> 8\u001b[0m     A2 \u001b[38;5;241m=\u001b[39m \u001b[43msimAnnealing\u001b[49m\u001b[43m(\u001b[49m\u001b[43marr\u001b[49m\u001b[43m,\u001b[49m\u001b[43m \u001b[49m\u001b[43malphas\u001b[49m\u001b[43m[\u001b[49m\u001b[43mi\u001b[49m\u001b[43m]\u001b[49m\u001b[43m,\u001b[49m\u001b[43m \u001b[49m\u001b[38;5;241;43m500\u001b[39;49m\u001b[43m)\u001b[49m\n\u001b[0;32m      9\u001b[0m     prom\u001b[38;5;241m+\u001b[39m\u001b[38;5;241m=\u001b[39mA2[\u001b[38;5;241m2\u001b[39m]\n\u001b[0;32m     10\u001b[0m iterprom[i]\u001b[38;5;241m=\u001b[39mprom\u001b[38;5;241m/\u001b[39m\u001b[38;5;241m5\u001b[39m\n",
      "Input \u001b[1;32mIn [115]\u001b[0m, in \u001b[0;36msimAnnealing\u001b[1;34m(sudoku, alpha, N)\u001b[0m\n\u001b[0;32m     10\u001b[0m     \u001b[38;5;28;01mreturn\u001b[39;00m a, costo(a), i\u001b[38;5;241m*\u001b[39mj\n\u001b[0;32m     11\u001b[0m \u001b[38;5;28;01mfor\u001b[39;00m j \u001b[38;5;129;01min\u001b[39;00m \u001b[38;5;28mrange\u001b[39m(n):\n\u001b[1;32m---> 12\u001b[0m     b \u001b[38;5;241m=\u001b[39m \u001b[43mpermutarCoords\u001b[49m\u001b[43m(\u001b[49m\u001b[43ma\u001b[49m\u001b[43m,\u001b[49m\u001b[43m \u001b[49m\u001b[43msudoku\u001b[49m\u001b[43m)\u001b[49m\n\u001b[0;32m     13\u001b[0m     delta \u001b[38;5;241m=\u001b[39m costo(b)\u001b[38;5;241m-\u001b[39mcosto(a)\n\u001b[0;32m     14\u001b[0m     \u001b[38;5;28;01mif\u001b[39;00m delta\u001b[38;5;241m<\u001b[39m\u001b[38;5;241m=\u001b[39m\u001b[38;5;241m0\u001b[39m:\n",
      "Input \u001b[1;32mIn [55]\u001b[0m, in \u001b[0;36mpermutarCoords\u001b[1;34m(rell, orig)\u001b[0m\n\u001b[0;32m      4\u001b[0m k, l \u001b[38;5;241m=\u001b[39m np\u001b[38;5;241m.\u001b[39mrandom\u001b[38;5;241m.\u001b[39mrandint(\u001b[38;5;241m3\u001b[39m, size\u001b[38;5;241m=\u001b[39m\u001b[38;5;241m2\u001b[39m) \u001b[38;5;66;03m#seleccionamos cuadrado donde realizar permutacion\u001b[39;00m\n\u001b[0;32m      5\u001b[0m coord \u001b[38;5;241m=\u001b[39m []\n\u001b[1;32m----> 6\u001b[0m copia \u001b[38;5;241m=\u001b[39m \u001b[43mnp\u001b[49m\u001b[38;5;241;43m.\u001b[39;49m\u001b[43mcopy\u001b[49m\u001b[43m(\u001b[49m\u001b[43mrell\u001b[49m\u001b[43m)\u001b[49m \n\u001b[0;32m      7\u001b[0m \u001b[38;5;28;01mfor\u001b[39;00m i \u001b[38;5;129;01min\u001b[39;00m \u001b[38;5;28mrange\u001b[39m(\u001b[38;5;241m3\u001b[39m):\n\u001b[0;32m      8\u001b[0m     \u001b[38;5;28;01mfor\u001b[39;00m j \u001b[38;5;129;01min\u001b[39;00m \u001b[38;5;28mrange\u001b[39m(\u001b[38;5;241m3\u001b[39m):\n",
      "File \u001b[1;32m<__array_function__ internals>:180\u001b[0m, in \u001b[0;36mcopy\u001b[1;34m(*args, **kwargs)\u001b[0m\n",
      "File \u001b[1;32mD:\\acer\\miniconda\\lib\\site-packages\\numpy\\lib\\function_base.py:959\u001b[0m, in \u001b[0;36mcopy\u001b[1;34m(a, order, subok)\u001b[0m\n\u001b[0;32m    870\u001b[0m \u001b[38;5;129m@array_function_dispatch\u001b[39m(_copy_dispatcher)\n\u001b[0;32m    871\u001b[0m \u001b[38;5;28;01mdef\u001b[39;00m \u001b[38;5;21mcopy\u001b[39m(a, order\u001b[38;5;241m=\u001b[39m\u001b[38;5;124m'\u001b[39m\u001b[38;5;124mK\u001b[39m\u001b[38;5;124m'\u001b[39m, subok\u001b[38;5;241m=\u001b[39m\u001b[38;5;28;01mFalse\u001b[39;00m):\n\u001b[0;32m    872\u001b[0m     \u001b[38;5;124;03m\"\"\"\u001b[39;00m\n\u001b[0;32m    873\u001b[0m \u001b[38;5;124;03m    Return an array copy of the given object.\u001b[39;00m\n\u001b[0;32m    874\u001b[0m \n\u001b[1;32m   (...)\u001b[0m\n\u001b[0;32m    957\u001b[0m \n\u001b[0;32m    958\u001b[0m \u001b[38;5;124;03m    \"\"\"\u001b[39;00m\n\u001b[1;32m--> 959\u001b[0m     \u001b[38;5;28;01mreturn\u001b[39;00m \u001b[43marray\u001b[49m\u001b[43m(\u001b[49m\u001b[43ma\u001b[49m\u001b[43m,\u001b[49m\u001b[43m \u001b[49m\u001b[43morder\u001b[49m\u001b[38;5;241;43m=\u001b[39;49m\u001b[43morder\u001b[49m\u001b[43m,\u001b[49m\u001b[43m \u001b[49m\u001b[43msubok\u001b[49m\u001b[38;5;241;43m=\u001b[39;49m\u001b[43msubok\u001b[49m\u001b[43m,\u001b[49m\u001b[43m \u001b[49m\u001b[43mcopy\u001b[49m\u001b[38;5;241;43m=\u001b[39;49m\u001b[38;5;28;43;01mTrue\u001b[39;49;00m\u001b[43m)\u001b[49m\n",
      "\u001b[1;31mKeyboardInterrupt\u001b[0m: "
     ]
    }
   ],
   "source": [
    "alphas=[0.1, 0.3, 0.5, 0.7, 0.9]\n",
    "iterprom=np.zeros(5)\n",
    "prom = 0\n",
    "for i in range(5):\n",
    "    for j in range(5):\n",
    "        sud=sudokus.loc[j][0]\n",
    "        arr=strToArr(sud)\n",
    "        A2 = simAnnealing(arr, alphas[i], 500)\n",
    "        prom+=A2[2]\n",
    "    iterprom[i]=prom/5\n",
    "    \n",
    "plt.plot(alphas, iterprom)\n",
    "plt.title(\"Iteraciones promedio en función de alpha\")\n",
    "plt.xlabel(\"alpha\")\n",
    "plt.ylabel(\"#Iteraciones\")\n",
    "plt.show()"
   ]
  },
  {
   "cell_type": "code",
   "execution_count": null,
   "id": "ed237dd3",
   "metadata": {},
   "outputs": [],
   "source": []
  }
 ],
 "metadata": {
  "kernelspec": {
   "display_name": "Python 3 (ipykernel)",
   "language": "python",
   "name": "python3"
  },
  "language_info": {
   "codemirror_mode": {
    "name": "ipython",
    "version": 3
   },
   "file_extension": ".py",
   "mimetype": "text/x-python",
   "name": "python",
   "nbconvert_exporter": "python",
   "pygments_lexer": "ipython3",
   "version": "3.9.12"
  }
 },
 "nbformat": 4,
 "nbformat_minor": 5
}
